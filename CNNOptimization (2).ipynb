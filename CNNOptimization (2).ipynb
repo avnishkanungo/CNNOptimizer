{
  "nbformat": 4,
  "nbformat_minor": 0,
  "metadata": {
    "colab": {
      "name": "CNNOptimization.ipynb",
      "provenance": [],
      "collapsed_sections": []
    },
    "kernelspec": {
      "name": "python3",
      "display_name": "Python 3"
    },
    "language_info": {
      "name": "python"
    },
    "accelerator": "GPU"
  },
  "cells": [
    {
      "cell_type": "code",
      "execution_count": 1,
      "metadata": {
        "colab": {
          "base_uri": "https://localhost:8080/"
        },
        "id": "5k9hAROE24IG",
        "outputId": "159beafd-aad9-4cc9-a85c-314631ac9bec"
      },
      "outputs": [
        {
          "output_type": "stream",
          "name": "stdout",
          "text": [
            "Sun Jan 16 06:16:21 2022       \n",
            "+-----------------------------------------------------------------------------+\n",
            "| NVIDIA-SMI 495.46       Driver Version: 460.32.03    CUDA Version: 11.2     |\n",
            "|-------------------------------+----------------------+----------------------+\n",
            "| GPU  Name        Persistence-M| Bus-Id        Disp.A | Volatile Uncorr. ECC |\n",
            "| Fan  Temp  Perf  Pwr:Usage/Cap|         Memory-Usage | GPU-Util  Compute M. |\n",
            "|                               |                      |               MIG M. |\n",
            "|===============================+======================+======================|\n",
            "|   0  Tesla T4            Off  | 00000000:00:04.0 Off |                    0 |\n",
            "| N/A   62C    P8    11W /  70W |      0MiB / 15109MiB |      0%      Default |\n",
            "|                               |                      |                  N/A |\n",
            "+-------------------------------+----------------------+----------------------+\n",
            "                                                                               \n",
            "+-----------------------------------------------------------------------------+\n",
            "| Processes:                                                                  |\n",
            "|  GPU   GI   CI        PID   Type   Process name                  GPU Memory |\n",
            "|        ID   ID                                                   Usage      |\n",
            "|=============================================================================|\n",
            "|  No running processes found                                                 |\n",
            "+-----------------------------------------------------------------------------+\n"
          ]
        }
      ],
      "source": [
        "!nvidia-smi"
      ]
    },
    {
      "cell_type": "code",
      "source": [
        "!pip install keras-tuner"
      ],
      "metadata": {
        "colab": {
          "base_uri": "https://localhost:8080/"
        },
        "id": "p2tn2VT-5nOu",
        "outputId": "04cea164-0255-4052-d1c7-ee34291e53d2"
      },
      "execution_count": 2,
      "outputs": [
        {
          "output_type": "stream",
          "name": "stdout",
          "text": [
            "Collecting keras-tuner\n",
            "  Downloading keras_tuner-1.1.0-py3-none-any.whl (98 kB)\n",
            "\u001b[?25l\r\u001b[K     |███▍                            | 10 kB 29.2 MB/s eta 0:00:01\r\u001b[K     |██████▊                         | 20 kB 20.1 MB/s eta 0:00:01\r\u001b[K     |██████████                      | 30 kB 10.1 MB/s eta 0:00:01\r\u001b[K     |█████████████▍                  | 40 kB 8.3 MB/s eta 0:00:01\r\u001b[K     |████████████████▊               | 51 kB 5.1 MB/s eta 0:00:01\r\u001b[K     |████████████████████            | 61 kB 5.3 MB/s eta 0:00:01\r\u001b[K     |███████████████████████▍        | 71 kB 5.3 MB/s eta 0:00:01\r\u001b[K     |██████████████████████████▊     | 81 kB 5.9 MB/s eta 0:00:01\r\u001b[K     |██████████████████████████████  | 92 kB 6.1 MB/s eta 0:00:01\r\u001b[K     |████████████████████████████████| 98 kB 4.1 MB/s \n",
            "\u001b[?25hRequirement already satisfied: tensorboard in /usr/local/lib/python3.7/dist-packages (from keras-tuner) (2.7.0)\n",
            "Collecting kt-legacy\n",
            "  Downloading kt_legacy-1.0.4-py3-none-any.whl (9.6 kB)\n",
            "Requirement already satisfied: numpy in /usr/local/lib/python3.7/dist-packages (from keras-tuner) (1.19.5)\n",
            "Requirement already satisfied: scipy in /usr/local/lib/python3.7/dist-packages (from keras-tuner) (1.4.1)\n",
            "Requirement already satisfied: ipython in /usr/local/lib/python3.7/dist-packages (from keras-tuner) (5.5.0)\n",
            "Requirement already satisfied: requests in /usr/local/lib/python3.7/dist-packages (from keras-tuner) (2.23.0)\n",
            "Requirement already satisfied: packaging in /usr/local/lib/python3.7/dist-packages (from keras-tuner) (21.3)\n",
            "Requirement already satisfied: pygments in /usr/local/lib/python3.7/dist-packages (from ipython->keras-tuner) (2.6.1)\n",
            "Requirement already satisfied: setuptools>=18.5 in /usr/local/lib/python3.7/dist-packages (from ipython->keras-tuner) (57.4.0)\n",
            "Requirement already satisfied: pexpect in /usr/local/lib/python3.7/dist-packages (from ipython->keras-tuner) (4.8.0)\n",
            "Requirement already satisfied: simplegeneric>0.8 in /usr/local/lib/python3.7/dist-packages (from ipython->keras-tuner) (0.8.1)\n",
            "Requirement already satisfied: prompt-toolkit<2.0.0,>=1.0.4 in /usr/local/lib/python3.7/dist-packages (from ipython->keras-tuner) (1.0.18)\n",
            "Requirement already satisfied: pickleshare in /usr/local/lib/python3.7/dist-packages (from ipython->keras-tuner) (0.7.5)\n",
            "Requirement already satisfied: decorator in /usr/local/lib/python3.7/dist-packages (from ipython->keras-tuner) (4.4.2)\n",
            "Requirement already satisfied: traitlets>=4.2 in /usr/local/lib/python3.7/dist-packages (from ipython->keras-tuner) (5.1.1)\n",
            "Requirement already satisfied: six>=1.9.0 in /usr/local/lib/python3.7/dist-packages (from prompt-toolkit<2.0.0,>=1.0.4->ipython->keras-tuner) (1.15.0)\n",
            "Requirement already satisfied: wcwidth in /usr/local/lib/python3.7/dist-packages (from prompt-toolkit<2.0.0,>=1.0.4->ipython->keras-tuner) (0.2.5)\n",
            "Requirement already satisfied: pyparsing!=3.0.5,>=2.0.2 in /usr/local/lib/python3.7/dist-packages (from packaging->keras-tuner) (3.0.6)\n",
            "Requirement already satisfied: ptyprocess>=0.5 in /usr/local/lib/python3.7/dist-packages (from pexpect->ipython->keras-tuner) (0.7.0)\n",
            "Requirement already satisfied: idna<3,>=2.5 in /usr/local/lib/python3.7/dist-packages (from requests->keras-tuner) (2.10)\n",
            "Requirement already satisfied: certifi>=2017.4.17 in /usr/local/lib/python3.7/dist-packages (from requests->keras-tuner) (2021.10.8)\n",
            "Requirement already satisfied: urllib3!=1.25.0,!=1.25.1,<1.26,>=1.21.1 in /usr/local/lib/python3.7/dist-packages (from requests->keras-tuner) (1.24.3)\n",
            "Requirement already satisfied: chardet<4,>=3.0.2 in /usr/local/lib/python3.7/dist-packages (from requests->keras-tuner) (3.0.4)\n",
            "Requirement already satisfied: werkzeug>=0.11.15 in /usr/local/lib/python3.7/dist-packages (from tensorboard->keras-tuner) (1.0.1)\n",
            "Requirement already satisfied: protobuf>=3.6.0 in /usr/local/lib/python3.7/dist-packages (from tensorboard->keras-tuner) (3.17.3)\n",
            "Requirement already satisfied: tensorboard-data-server<0.7.0,>=0.6.0 in /usr/local/lib/python3.7/dist-packages (from tensorboard->keras-tuner) (0.6.1)\n",
            "Requirement already satisfied: grpcio>=1.24.3 in /usr/local/lib/python3.7/dist-packages (from tensorboard->keras-tuner) (1.43.0)\n",
            "Requirement already satisfied: google-auth-oauthlib<0.5,>=0.4.1 in /usr/local/lib/python3.7/dist-packages (from tensorboard->keras-tuner) (0.4.6)\n",
            "Requirement already satisfied: markdown>=2.6.8 in /usr/local/lib/python3.7/dist-packages (from tensorboard->keras-tuner) (3.3.6)\n",
            "Requirement already satisfied: absl-py>=0.4 in /usr/local/lib/python3.7/dist-packages (from tensorboard->keras-tuner) (0.12.0)\n",
            "Requirement already satisfied: wheel>=0.26 in /usr/local/lib/python3.7/dist-packages (from tensorboard->keras-tuner) (0.37.1)\n",
            "Requirement already satisfied: tensorboard-plugin-wit>=1.6.0 in /usr/local/lib/python3.7/dist-packages (from tensorboard->keras-tuner) (1.8.1)\n",
            "Requirement already satisfied: google-auth<3,>=1.6.3 in /usr/local/lib/python3.7/dist-packages (from tensorboard->keras-tuner) (1.35.0)\n",
            "Requirement already satisfied: pyasn1-modules>=0.2.1 in /usr/local/lib/python3.7/dist-packages (from google-auth<3,>=1.6.3->tensorboard->keras-tuner) (0.2.8)\n",
            "Requirement already satisfied: rsa<5,>=3.1.4 in /usr/local/lib/python3.7/dist-packages (from google-auth<3,>=1.6.3->tensorboard->keras-tuner) (4.8)\n",
            "Requirement already satisfied: cachetools<5.0,>=2.0.0 in /usr/local/lib/python3.7/dist-packages (from google-auth<3,>=1.6.3->tensorboard->keras-tuner) (4.2.4)\n",
            "Requirement already satisfied: requests-oauthlib>=0.7.0 in /usr/local/lib/python3.7/dist-packages (from google-auth-oauthlib<0.5,>=0.4.1->tensorboard->keras-tuner) (1.3.0)\n",
            "Requirement already satisfied: importlib-metadata>=4.4 in /usr/local/lib/python3.7/dist-packages (from markdown>=2.6.8->tensorboard->keras-tuner) (4.10.0)\n",
            "Requirement already satisfied: typing-extensions>=3.6.4 in /usr/local/lib/python3.7/dist-packages (from importlib-metadata>=4.4->markdown>=2.6.8->tensorboard->keras-tuner) (3.10.0.2)\n",
            "Requirement already satisfied: zipp>=0.5 in /usr/local/lib/python3.7/dist-packages (from importlib-metadata>=4.4->markdown>=2.6.8->tensorboard->keras-tuner) (3.7.0)\n",
            "Requirement already satisfied: pyasn1<0.5.0,>=0.4.6 in /usr/local/lib/python3.7/dist-packages (from pyasn1-modules>=0.2.1->google-auth<3,>=1.6.3->tensorboard->keras-tuner) (0.4.8)\n",
            "Requirement already satisfied: oauthlib>=3.0.0 in /usr/local/lib/python3.7/dist-packages (from requests-oauthlib>=0.7.0->google-auth-oauthlib<0.5,>=0.4.1->tensorboard->keras-tuner) (3.1.1)\n",
            "Installing collected packages: kt-legacy, keras-tuner\n",
            "Successfully installed keras-tuner-1.1.0 kt-legacy-1.0.4\n"
          ]
        }
      ]
    },
    {
      "cell_type": "code",
      "source": [
        "import tensorflow as tf\n",
        "from tensorflow import keras\n",
        "import numpy as np"
      ],
      "metadata": {
        "id": "gINr4pfk7TzO"
      },
      "execution_count": 3,
      "outputs": []
    },
    {
      "cell_type": "code",
      "source": [
        "print(tf.__version__)"
      ],
      "metadata": {
        "colab": {
          "base_uri": "https://localhost:8080/"
        },
        "id": "hr4-tc_M7dnF",
        "outputId": "11e10ae1-bb63-414d-d56c-f4dcc7f6e35a"
      },
      "execution_count": 4,
      "outputs": [
        {
          "output_type": "stream",
          "name": "stdout",
          "text": [
            "2.7.0\n"
          ]
        }
      ]
    },
    {
      "cell_type": "code",
      "source": [
        "fashion_mnist = tf.keras.datasets.fashion_mnist"
      ],
      "metadata": {
        "id": "R_5CsdeH7zLQ"
      },
      "execution_count": 5,
      "outputs": []
    },
    {
      "cell_type": "code",
      "source": [
        "(train_images, train_labels),(test_images, test_labels) = fashion_mnist.load_data()"
      ],
      "metadata": {
        "colab": {
          "base_uri": "https://localhost:8080/"
        },
        "id": "DhF2DEly8qoM",
        "outputId": "e6a0040e-925b-45b8-8852-78debf42625c"
      },
      "execution_count": 6,
      "outputs": [
        {
          "output_type": "stream",
          "name": "stdout",
          "text": [
            "Downloading data from https://storage.googleapis.com/tensorflow/tf-keras-datasets/train-labels-idx1-ubyte.gz\n",
            "32768/29515 [=================================] - 0s 0us/step\n",
            "40960/29515 [=========================================] - 0s 0us/step\n",
            "Downloading data from https://storage.googleapis.com/tensorflow/tf-keras-datasets/train-images-idx3-ubyte.gz\n",
            "26427392/26421880 [==============================] - 0s 0us/step\n",
            "26435584/26421880 [==============================] - 0s 0us/step\n",
            "Downloading data from https://storage.googleapis.com/tensorflow/tf-keras-datasets/t10k-labels-idx1-ubyte.gz\n",
            "16384/5148 [===============================================================================================] - 0s 0us/step\n",
            "Downloading data from https://storage.googleapis.com/tensorflow/tf-keras-datasets/t10k-images-idx3-ubyte.gz\n",
            "4423680/4422102 [==============================] - 0s 0us/step\n",
            "4431872/4422102 [==============================] - 0s 0us/step\n"
          ]
        }
      ]
    },
    {
      "cell_type": "code",
      "source": [
        "for i in range(10):\n",
        "  print(train_labels[i])"
      ],
      "metadata": {
        "id": "xZIujroVkj8N",
        "colab": {
          "base_uri": "https://localhost:8080/"
        },
        "outputId": "5e8b8674-659b-49e3-8bdc-3f78f8208d93"
      },
      "execution_count": 10,
      "outputs": [
        {
          "output_type": "stream",
          "name": "stdout",
          "text": [
            "9\n",
            "0\n",
            "0\n",
            "3\n",
            "0\n",
            "2\n",
            "7\n",
            "2\n",
            "5\n",
            "5\n"
          ]
        }
      ]
    },
    {
      "cell_type": "code",
      "source": [
        "train_images = train_images/255.0\n",
        "test_images = test_images/255.0"
      ],
      "metadata": {
        "id": "dT-IhFTF86OT"
      },
      "execution_count": 11,
      "outputs": []
    },
    {
      "cell_type": "code",
      "source": [
        "import matplotlib.pyplot as plt"
      ],
      "metadata": {
        "id": "vMTa0wwA9QlZ"
      },
      "execution_count": 8,
      "outputs": []
    },
    {
      "cell_type": "code",
      "source": [
        "for i in range(10):\n",
        "  plt.imshow(test_images[i], cmap = 'Greys')\n",
        "  plt.show()"
      ],
      "metadata": {
        "colab": {
          "base_uri": "https://localhost:8080/",
          "height": 1000
        },
        "id": "d1DYXYjA9pcL",
        "outputId": "948efb2e-b337-4572-d141-d987727980ac"
      },
      "execution_count": 12,
      "outputs": [
        {
          "output_type": "display_data",
          "data": {
            "image/png": "[encoded data removed]",
            "text/plain": [
              "<Figure size 432x288 with 1 Axes>"
            ]
          },
          "metadata": {
            "needs_background": "light"
          }
        },
        {
          "output_type": "display_data",
          "data": {
            "image/png": "[encoded data removed]",
            "text/plain": [
              "<Figure size 432x288 with 1 Axes>"
            ]
          },
          "metadata": {
            "needs_background": "light"
          }
        },
        {
          "output_type": "display_data",
          "data": {
            "image/png": "[encoded data removed]",
            "text/plain": [
              "<Figure size 432x288 with 1 Axes>"
            ]
          },
          "metadata": {
            "needs_background": "light"
          }
        },
        {
          "output_type": "display_data",
          "data": {
            "image/png": "[encoded data removed]",
            "text/plain": [
              "<Figure size 432x288 with 1 Axes>"
            ]
          },
          "metadata": {
            "needs_background": "light"
          }
        },
        {
          "output_type": "display_data",
          "data": {
            "image/png": "[encoded data removed]",
            "text/plain": [
              "<Figure size 432x288 with 1 Axes>"
            ]
          },
          "metadata": {
            "needs_background": "light"
          }
        },
        {
          "output_type": "display_data",
          "data": {
            "image/png": "[encoded data removed]",
            "text/plain": [
              "<Figure size 432x288 with 1 Axes>"
            ]
          },
          "metadata": {
            "needs_background": "light"
          }
        },
        {
          "output_type": "display_data",
          "data": {
            "image/png": "[encoded data removed]",
            "text/plain": [
              "<Figure size 432x288 with 1 Axes>"
            ]
          },
          "metadata": {
            "needs_background": "light"
          }
        },
        {
          "output_type": "display_data",
          "data": {
            "image/png": "[encoded data removed]",
            "text/plain": [
              "<Figure size 432x288 with 1 Axes>"
            ]
          },
          "metadata": {
            "needs_background": "light"
          }
        },
        {
          "output_type": "display_data",
          "data": {
            "image/png": "[encoded data removed]",
            "text/plain": [
              "<Figure size 432x288 with 1 Axes>"
            ]
          },
          "metadata": {
            "needs_background": "light"
          }
        },
        {
          "output_type": "display_data",
          "data": {
            "image/png": "[encoded data removed]",
            "text/plain": [
              "<Figure size 432x288 with 1 Axes>"
            ]
          },
          "metadata": {
            "needs_background": "light"
          }
        }
      ]
    },
    {
      "cell_type": "code",
      "source": [
        "train_images[0].shape"
      ],
      "metadata": {
        "colab": {
          "base_uri": "https://localhost:8080/"
        },
        "id": "rnGc1CZc-OgV",
        "outputId": "f1d83669-18bd-4300-e9c2-4ca6833967fc"
      },
      "execution_count": 13,
      "outputs": [
        {
          "output_type": "execute_result",
          "data": {
            "text/plain": [
              "(28, 28)"
            ]
          },
          "metadata": {},
          "execution_count": 13
        }
      ]
    },
    {
      "cell_type": "code",
      "source": [
        "train_images = train_images.reshape(len(train_images),28,28,1)\n",
        "test_images = test_images.reshape(len(test_images),28,28,1)\n",
        "train_images[0].shape"
      ],
      "metadata": {
        "colab": {
          "base_uri": "https://localhost:8080/"
        },
        "id": "JC7vrWP7_ub3",
        "outputId": "089cbaaf-8179-4544-f071-53d774c007b6"
      },
      "execution_count": 14,
      "outputs": [
        {
          "output_type": "execute_result",
          "data": {
            "text/plain": [
              "(28, 28, 1)"
            ]
          },
          "metadata": {},
          "execution_count": 14
        }
      ]
    },
    {
      "cell_type": "code",
      "source": [
        "def build_model(hp):\n",
        "    model = keras.Sequential([\n",
        "      keras.layers.Conv2D(\n",
        "          filters = hp.Int('conv_1_filter', min_value=32, max_value=128, step=16),\n",
        "          kernel_size = hp.Choice('conv_1_kernel', values = [3,5]),\n",
        "          activation = 'relu',\n",
        "          input_shape = (28,28,1)\n",
        "      ),\n",
        "      keras.layers.Conv2D(\n",
        "          filters = hp.Int('conv_1_filter', min_value=32, max_value=64, step=16),\n",
        "          kernel_size = hp.Choice('conv_1_kernel', values = [3,5]),\n",
        "          activation = 'relu'\n",
        "      ),\n",
        "      keras.layers.Flatten(),\n",
        "      keras.layers.Dense( units=hp.Int('dense_1_units', min_value=32, max_value=128, step=16), activation='relu'),\n",
        "      keras.layers.Dense(10, activation='softmax')                          \n",
        "    ])\n",
        "    model.compile(optimizer=keras.optimizers.Adam(hp.Choice(\"Learning_Rate\",[1e-2,1e-3])), loss='sparse_categorical_crossentropy', metrics=['accuracy'])\n",
        "    return model"
      ],
      "metadata": {
        "id": "fIrStNmfAJ9Z"
      },
      "execution_count": 15,
      "outputs": []
    },
    {
      "cell_type": "code",
      "source": [
        "from keras_tuner import RandomSearch\n",
        "from kerastuner.engine.hyperparameters import HyperParameters"
      ],
      "metadata": {
        "id": "7g2bMyuxE6QT",
        "colab": {
          "base_uri": "https://localhost:8080/"
        },
        "outputId": "92507d0d-ca60-4a53-e2e3-d9ef17d4b7e9"
      },
      "execution_count": 16,
      "outputs": [
        {
          "output_type": "stream",
          "name": "stderr",
          "text": [
            "/usr/local/lib/python3.7/dist-packages/ipykernel_launcher.py:2: DeprecationWarning: `import kerastuner` is deprecated, please use `import keras_tuner`.\n",
            "  \n"
          ]
        }
      ]
    },
    {
      "cell_type": "code",
      "source": [
        "tuner = RandomSearch(\n",
        "    build_model,\n",
        "    objective='val_accuracy',\n",
        "    max_trials=10,\n",
        "    directory='output_1',\n",
        "    project_name='CNNOptimizer')"
      ],
      "metadata": {
        "id": "yc0EDZrCE-kq"
      },
      "execution_count": 17,
      "outputs": []
    },
    {
      "cell_type": "code",
      "source": [
        "tuner.search(train_images, train_labels, epochs=3, validation_split=0.4)"
      ],
      "metadata": {
        "colab": {
          "base_uri": "https://localhost:8080/"
        },
        "id": "-3gpPU4LGPSM",
        "outputId": "3c5c9eb8-b551-4840-aaed-8796d43af89f"
      },
      "execution_count": 18,
      "outputs": [
        {
          "output_type": "stream",
          "name": "stdout",
          "text": [
            "Trial 10 Complete [00h 00m 21s]\n",
            "val_accuracy: 0.8967083096504211\n",
            "\n",
            "Best val_accuracy So Far: 0.9079999923706055\n",
            "Total elapsed time: 00h 04m 37s\n",
            "INFO:tensorflow:Oracle triggered exit\n"
          ]
        }
      ]
    },
    {
      "cell_type": "code",
      "source": [
        "model = tuner.get_best_models(num_models=1)[0]"
      ],
      "metadata": {
        "id": "8LiLsdekGmMN"
      },
      "execution_count": 19,
      "outputs": []
    },
    {
      "cell_type": "code",
      "source": [
        "model.summary()"
      ],
      "metadata": {
        "colab": {
          "base_uri": "https://localhost:8080/"
        },
        "id": "x4TtVwIoKPti",
        "outputId": "e722acbb-b845-4dd1-fad7-74a43b29585f"
      },
      "execution_count": 20,
      "outputs": [
        {
          "output_type": "stream",
          "name": "stdout",
          "text": [
            "Model: \"sequential\"\n",
            "_________________________________________________________________\n",
            " Layer (type)                Output Shape              Param #   \n",
            "=================================================================\n",
            " conv2d (Conv2D)             (None, 26, 26, 128)       1280      \n",
            "                                                                 \n",
            " conv2d_1 (Conv2D)           (None, 24, 24, 128)       147584    \n",
            "                                                                 \n",
            " flatten (Flatten)           (None, 73728)             0         \n",
            "                                                                 \n",
            " dense (Dense)               (None, 48)                3538992   \n",
            "                                                                 \n",
            " dense_1 (Dense)             (None, 10)                490       \n",
            "                                                                 \n",
            "=================================================================\n",
            "Total params: 3,688,346\n",
            "Trainable params: 3,688,346\n",
            "Non-trainable params: 0\n",
            "_________________________________________________________________\n"
          ]
        }
      ]
    },
    {
      "cell_type": "code",
      "source": [
        "model.fit(train_images,train_labels, validation_split=0.4, epochs=50, initial_epoch=3)"
      ],
      "metadata": {
        "colab": {
          "base_uri": "https://localhost:8080/"
        },
        "id": "A2vt1WS5KU9e",
        "outputId": "a9d817c0-9cf5-4116-f7aa-4c5613cad5f7"
      },
      "execution_count": 21,
      "outputs": [
        {
          "output_type": "stream",
          "name": "stdout",
          "text": [
            "Epoch 4/50\n",
            "1125/1125 [==============================] - 10s 9ms/step - loss: 0.1519 - accuracy: 0.9436 - val_loss: 0.2779 - val_accuracy: 0.9113\n",
            "Epoch 5/50\n",
            "1125/1125 [==============================] - 9s 8ms/step - loss: 0.1110 - accuracy: 0.9595 - val_loss: 0.3222 - val_accuracy: 0.9036\n",
            "Epoch 6/50\n",
            "1125/1125 [==============================] - 9s 8ms/step - loss: 0.0785 - accuracy: 0.9713 - val_loss: 0.3274 - val_accuracy: 0.9055\n",
            "Epoch 7/50\n",
            "1125/1125 [==============================] - 10s 9ms/step - loss: 0.0575 - accuracy: 0.9788 - val_loss: 0.4038 - val_accuracy: 0.9043\n",
            "Epoch 8/50\n",
            "1125/1125 [==============================] - 9s 8ms/step - loss: 0.0374 - accuracy: 0.9866 - val_loss: 0.4457 - val_accuracy: 0.9057\n",
            "Epoch 9/50\n",
            "1125/1125 [==============================] - 10s 9ms/step - loss: 0.0288 - accuracy: 0.9906 - val_loss: 0.5430 - val_accuracy: 0.8995\n",
            "Epoch 10/50\n",
            "1125/1125 [==============================] - 10s 9ms/step - loss: 0.0282 - accuracy: 0.9899 - val_loss: 0.5561 - val_accuracy: 0.9061\n",
            "Epoch 11/50\n",
            "1125/1125 [==============================] - 9s 8ms/step - loss: 0.0182 - accuracy: 0.9935 - val_loss: 0.6193 - val_accuracy: 0.9018\n",
            "Epoch 12/50\n",
            "1125/1125 [==============================] - 9s 8ms/step - loss: 0.0227 - accuracy: 0.9916 - val_loss: 0.6081 - val_accuracy: 0.9039\n",
            "Epoch 13/50\n",
            "1125/1125 [==============================] - 10s 9ms/step - loss: 0.0189 - accuracy: 0.9937 - val_loss: 0.6284 - val_accuracy: 0.9046\n",
            "Epoch 14/50\n",
            "1125/1125 [==============================] - 10s 8ms/step - loss: 0.0166 - accuracy: 0.9942 - val_loss: 0.7747 - val_accuracy: 0.8990\n",
            "Epoch 15/50\n",
            "1125/1125 [==============================] - 10s 9ms/step - loss: 0.0141 - accuracy: 0.9957 - val_loss: 0.7893 - val_accuracy: 0.9066\n",
            "Epoch 16/50\n",
            "1125/1125 [==============================] - 10s 8ms/step - loss: 0.0130 - accuracy: 0.9958 - val_loss: 0.8594 - val_accuracy: 0.9041\n",
            "Epoch 17/50\n",
            "1125/1125 [==============================] - 10s 9ms/step - loss: 0.0121 - accuracy: 0.9962 - val_loss: 0.8036 - val_accuracy: 0.9060\n",
            "Epoch 18/50\n",
            "1125/1125 [==============================] - 9s 8ms/step - loss: 0.0167 - accuracy: 0.9948 - val_loss: 0.8702 - val_accuracy: 0.9020\n",
            "Epoch 19/50\n",
            "1125/1125 [==============================] - 10s 8ms/step - loss: 0.0125 - accuracy: 0.9955 - val_loss: 0.9464 - val_accuracy: 0.9035\n",
            "Epoch 20/50\n",
            "1125/1125 [==============================] - 10s 8ms/step - loss: 0.0104 - accuracy: 0.9963 - val_loss: 0.8996 - val_accuracy: 0.9018\n",
            "Epoch 21/50\n",
            "1125/1125 [==============================] - 9s 8ms/step - loss: 0.0096 - accuracy: 0.9969 - val_loss: 0.9215 - val_accuracy: 0.9021\n",
            "Epoch 22/50\n",
            "1125/1125 [==============================] - 9s 8ms/step - loss: 0.0114 - accuracy: 0.9962 - val_loss: 0.9011 - val_accuracy: 0.9050\n",
            "Epoch 23/50\n",
            "1125/1125 [==============================] - 9s 8ms/step - loss: 0.0083 - accuracy: 0.9976 - val_loss: 0.9280 - val_accuracy: 0.9017\n",
            "Epoch 24/50\n",
            "1125/1125 [==============================] - 9s 8ms/step - loss: 0.0105 - accuracy: 0.9969 - val_loss: 0.9609 - val_accuracy: 0.9025\n",
            "Epoch 25/50\n",
            "1125/1125 [==============================] - 10s 9ms/step - loss: 0.0105 - accuracy: 0.9967 - val_loss: 0.9816 - val_accuracy: 0.9009\n",
            "Epoch 26/50\n",
            "1125/1125 [==============================] - 9s 8ms/step - loss: 0.0089 - accuracy: 0.9971 - val_loss: 1.0114 - val_accuracy: 0.9003\n",
            "Epoch 27/50\n",
            "1125/1125 [==============================] - 10s 9ms/step - loss: 0.0094 - accuracy: 0.9976 - val_loss: 1.0733 - val_accuracy: 0.9034\n",
            "Epoch 28/50\n",
            "1125/1125 [==============================] - 9s 8ms/step - loss: 0.0084 - accuracy: 0.9975 - val_loss: 1.0134 - val_accuracy: 0.9022\n",
            "Epoch 29/50\n",
            "1125/1125 [==============================] - 9s 8ms/step - loss: 0.0090 - accuracy: 0.9976 - val_loss: 1.1154 - val_accuracy: 0.9010\n",
            "Epoch 30/50\n",
            "1125/1125 [==============================] - 10s 9ms/step - loss: 0.0104 - accuracy: 0.9967 - val_loss: 1.2085 - val_accuracy: 0.9009\n",
            "Epoch 31/50\n",
            "1125/1125 [==============================] - 9s 8ms/step - loss: 0.0116 - accuracy: 0.9963 - val_loss: 1.1134 - val_accuracy: 0.9015\n",
            "Epoch 32/50\n",
            "1125/1125 [==============================] - 10s 8ms/step - loss: 0.0053 - accuracy: 0.9983 - val_loss: 1.1904 - val_accuracy: 0.9037\n",
            "Epoch 33/50\n",
            "1125/1125 [==============================] - 9s 8ms/step - loss: 0.0048 - accuracy: 0.9985 - val_loss: 1.2096 - val_accuracy: 0.9001\n",
            "Epoch 34/50\n",
            "1125/1125 [==============================] - 9s 8ms/step - loss: 0.0052 - accuracy: 0.9986 - val_loss: 1.1737 - val_accuracy: 0.9031\n",
            "Epoch 35/50\n",
            "1125/1125 [==============================] - 10s 9ms/step - loss: 0.0119 - accuracy: 0.9961 - val_loss: 1.1641 - val_accuracy: 0.9040\n",
            "Epoch 36/50\n",
            "1125/1125 [==============================] - 10s 9ms/step - loss: 0.0083 - accuracy: 0.9978 - val_loss: 1.1048 - val_accuracy: 0.9018\n",
            "Epoch 37/50\n",
            "1125/1125 [==============================] - 10s 9ms/step - loss: 0.0113 - accuracy: 0.9970 - val_loss: 1.2935 - val_accuracy: 0.9060\n",
            "Epoch 38/50\n",
            "1125/1125 [==============================] - 10s 9ms/step - loss: 0.0050 - accuracy: 0.9985 - val_loss: 1.2705 - val_accuracy: 0.9045\n",
            "Epoch 39/50\n",
            "1125/1125 [==============================] - 10s 9ms/step - loss: 0.0102 - accuracy: 0.9970 - val_loss: 1.1633 - val_accuracy: 0.9015\n",
            "Epoch 40/50\n",
            "1125/1125 [==============================] - 9s 8ms/step - loss: 0.0087 - accuracy: 0.9978 - val_loss: 1.3099 - val_accuracy: 0.9018\n",
            "Epoch 41/50\n",
            "1125/1125 [==============================] - 10s 9ms/step - loss: 0.0067 - accuracy: 0.9983 - val_loss: 1.4095 - val_accuracy: 0.9044\n",
            "Epoch 42/50\n",
            "1125/1125 [==============================] - 9s 8ms/step - loss: 0.0094 - accuracy: 0.9975 - val_loss: 1.2734 - val_accuracy: 0.8987\n",
            "Epoch 43/50\n",
            "1125/1125 [==============================] - 9s 8ms/step - loss: 0.0066 - accuracy: 0.9979 - val_loss: 1.1974 - val_accuracy: 0.9000\n",
            "Epoch 44/50\n",
            "1125/1125 [==============================] - 9s 8ms/step - loss: 0.0030 - accuracy: 0.9991 - val_loss: 1.1917 - val_accuracy: 0.9058\n",
            "Epoch 45/50\n",
            "1125/1125 [==============================] - 10s 9ms/step - loss: 0.0093 - accuracy: 0.9972 - val_loss: 1.4685 - val_accuracy: 0.9022\n",
            "Epoch 46/50\n",
            "1125/1125 [==============================] - 10s 9ms/step - loss: 0.0088 - accuracy: 0.9978 - val_loss: 1.3120 - val_accuracy: 0.9009\n",
            "Epoch 47/50\n",
            "1125/1125 [==============================] - 10s 9ms/step - loss: 0.0068 - accuracy: 0.9983 - val_loss: 1.4912 - val_accuracy: 0.9003\n",
            "Epoch 48/50\n",
            "1125/1125 [==============================] - 10s 9ms/step - loss: 0.0079 - accuracy: 0.9981 - val_loss: 1.4545 - val_accuracy: 0.9048\n",
            "Epoch 49/50\n",
            "1125/1125 [==============================] - 10s 9ms/step - loss: 0.0046 - accuracy: 0.9985 - val_loss: 1.4087 - val_accuracy: 0.9010\n",
            "Epoch 50/50\n",
            "1125/1125 [==============================] - 9s 8ms/step - loss: 0.0067 - accuracy: 0.9979 - val_loss: 1.4992 - val_accuracy: 0.9022\n"
          ]
        },
        {
          "output_type": "execute_result",
          "data": {
            "text/plain": [
              "<keras.callbacks.History at 0x7f1f506a7310>"
            ]
          },
          "metadata": {},
          "execution_count": 21
        }
      ]
    },
    {
      "cell_type": "code",
      "source": [
        ""
      ],
      "metadata": {
        "id": "pL0Yb8cAoHRg"
      },
      "execution_count": null,
      "outputs": []
    },
    {
      "cell_type": "code",
      "source": [
        "y = model.predict(test_images)"
      ],
      "metadata": {
        "id": "IGhrXC7LKp66"
      },
      "execution_count": 22,
      "outputs": []
    },
    {
      "cell_type": "code",
      "source": [
        "y[1]"
      ],
      "metadata": {
        "colab": {
          "base_uri": "https://localhost:8080/"
        },
        "id": "QbYhQE3XaI1Q",
        "outputId": "0b6f38d6-5a63-4f69-e724-bac2f7efc689"
      },
      "execution_count": 24,
      "outputs": [
        {
          "output_type": "execute_result",
          "data": {
            "text/plain": [
              "array([3.6609982e-25, 0.0000000e+00, 1.0000000e+00, 0.0000000e+00,\n",
              "       3.6115384e-30, 0.0000000e+00, 5.6201579e-31, 0.0000000e+00,\n",
              "       0.0000000e+00, 0.0000000e+00], dtype=float32)"
            ]
          },
          "metadata": {},
          "execution_count": 24
        }
      ]
    },
    {
      "cell_type": "code",
      "source": [
        "import numpy as np\n",
        "y_pred = np.argmax(y, axis=1)"
      ],
      "metadata": {
        "id": "M-XbJcsMaKMn"
      },
      "execution_count": 25,
      "outputs": []
    },
    {
      "cell_type": "code",
      "source": [
        "for i in range(10):\n",
        "  print(y_pred[i])"
      ],
      "metadata": {
        "colab": {
          "base_uri": "https://localhost:8080/"
        },
        "id": "FZZ8g-oDaVng",
        "outputId": "e4c8e75c-39c0-4d50-ac4b-6fdd3f072910"
      },
      "execution_count": 28,
      "outputs": [
        {
          "output_type": "stream",
          "name": "stdout",
          "text": [
            "9\n",
            "2\n",
            "1\n",
            "1\n",
            "6\n",
            "1\n",
            "4\n",
            "4\n",
            "5\n",
            "7\n"
          ]
        }
      ]
    },
    {
      "cell_type": "code",
      "source": [
        ""
      ],
      "metadata": {
        "id": "RJFsZ8_obHC0"
      },
      "execution_count": null,
      "outputs": []
    }
  ]
}